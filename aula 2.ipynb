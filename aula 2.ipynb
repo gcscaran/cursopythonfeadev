{
 "cells": [
  {
   "cell_type": "markdown",
   "id": "b27672de",
   "metadata": {},
   "source": [
    "# Jupyter Notebook\n",
    "Ambiente que viabiliza\n",
    "- execução de códigos\n",
    "- criação de documentos\n",
    ">É usado frequentemente para notas de aula"
   ]
  },
  {
   "attachments": {
    "giu13x4.jpg": {
     "image/jpeg": "[encoded data removed]"
    }
   },
   "cell_type": "markdown",
   "id": "921bfdcf",
   "metadata": {},
   "source": [
    "![giu13x4.jpg](attachment:giu13x4.jpg)"
   ]
  },
  {
   "cell_type": "code",
   "execution_count": 2,
   "id": "4218ada0",
   "metadata": {},
   "outputs": [
    {
     "name": "stdout",
     "output_type": "stream",
     "text": [
      "Fala, devs, tudo bem?\n"
     ]
    }
   ],
   "source": [
    "# imprimindo a mensagem\n",
    "print(\"Fala, devs, tudo bem?\")"
   ]
  },
  {
   "cell_type": "code",
   "execution_count": 3,
   "id": "922e35df",
   "metadata": {},
   "outputs": [
    {
     "name": "stdout",
     "output_type": "stream",
     "text": [
      "Bem vindos a aula 2!\n"
     ]
    }
   ],
   "source": [
    "print(\"Bem vindos a aula 2!\")"
   ]
  },
  {
   "cell_type": "code",
   "execution_count": 6,
   "id": "7d5e4969",
   "metadata": {},
   "outputs": [],
   "source": [
    "num = 3"
   ]
  },
  {
   "cell_type": "code",
   "execution_count": 7,
   "id": "b421731f",
   "metadata": {},
   "outputs": [],
   "source": [
    "num = num +2"
   ]
  },
  {
   "cell_type": "code",
   "execution_count": 8,
   "id": "8b36d16c",
   "metadata": {},
   "outputs": [],
   "source": [
    "num = num *2"
   ]
  },
  {
   "cell_type": "code",
   "execution_count": 10,
   "id": "6419caea",
   "metadata": {},
   "outputs": [
    {
     "name": "stdout",
     "output_type": "stream",
     "text": [
      "10\n"
     ]
    }
   ],
   "source": [
    "print (num)"
   ]
  },
  {
   "cell_type": "code",
   "execution_count": 12,
   "id": "d172ed64",
   "metadata": {},
   "outputs": [],
   "source": [
    "import random\n",
    "random.randint?"
   ]
  },
  {
   "cell_type": "code",
   "execution_count": 18,
   "id": "8110e1e6",
   "metadata": {},
   "outputs": [
    {
     "name": "stdout",
     "output_type": "stream",
     "text": [
      "0\n",
      "1\n",
      "2\n",
      "3\n",
      "4\n",
      "5\n",
      "6\n",
      "7\n",
      "8\n",
      "9\n",
      "10\n",
      "11\n",
      "12\n",
      "13\n",
      "14\n",
      "15\n",
      "16\n",
      "17\n",
      "18\n",
      "19\n",
      "20\n",
      "21\n",
      "22\n",
      "23\n",
      "24\n",
      "25\n"
     ]
    },
    {
     "ename": "KeyboardInterrupt",
     "evalue": "",
     "output_type": "error",
     "traceback": [
      "\u001b[1;31m---------------------------------------------------------------------------\u001b[0m",
      "\u001b[1;31mKeyboardInterrupt\u001b[0m                         Traceback (most recent call last)",
      "Cell \u001b[1;32mIn[18], line 4\u001b[0m\n\u001b[0;32m      2\u001b[0m \u001b[38;5;28;01mfor\u001b[39;00m i \u001b[38;5;129;01min\u001b[39;00m \u001b[38;5;28mrange\u001b[39m(\u001b[38;5;241m100\u001b[39m):\n\u001b[0;32m      3\u001b[0m     \u001b[38;5;28mprint\u001b[39m(i)\n\u001b[1;32m----> 4\u001b[0m     time\u001b[38;5;241m.\u001b[39msleep(\u001b[38;5;241m1\u001b[39m)\n",
      "\u001b[1;31mKeyboardInterrupt\u001b[0m: "
     ]
    }
   ],
   "source": [
    "import time\n",
    "for i in range(100):\n",
    "    print(i)\n",
    "    time.sleep(1)"
   ]
  },
  {
   "cell_type": "code",
   "execution_count": null,
   "id": "7b04d2da",
   "metadata": {},
   "outputs": [],
   "source": []
  }
 ],
 "metadata": {
  "kernelspec": {
   "display_name": "Python 3 (ipykernel)",
   "language": "python",
   "name": "python3"
  },
  "language_info": {
   "codemirror_mode": {
    "name": "ipython",
    "version": 3
   },
   "file_extension": ".py",
   "mimetype": "text/x-python",
   "name": "python",
   "nbconvert_exporter": "python",
   "pygments_lexer": "ipython3",
   "version": "3.11.4"
  }
 },
 "nbformat": 4,
 "nbformat_minor": 5
}
